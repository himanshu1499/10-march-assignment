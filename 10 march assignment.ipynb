{
 "cells": [
  {
   "cell_type": "code",
   "execution_count": null,
   "id": "92003f06-3ba8-41c1-a00c-4aad43dad309",
   "metadata": {},
   "outputs": [],
   "source": [
    "## Q1\n",
    "the process by which one makes inferences about a population,\n",
    "based on information obtained from a sample.\n"
   ]
  },
  {
   "cell_type": "code",
   "execution_count": null,
   "id": "3840e29f-a1f9-435a-bc39-fd6bbaac2b89",
   "metadata": {},
   "outputs": [],
   "source": [
    "# point estimate\n",
    " a single number from the sample which will represent the unknown value of the population parameter"
   ]
  },
  {
   "cell_type": "code",
   "execution_count": null,
   "id": "e705feaa-7f11-4f43-a1e9-bd96b3fd9d7e",
   "metadata": {},
   "outputs": [],
   "source": [
    "# interval estimate\n",
    "a range of value used to estimate the unknown population parameter."
   ]
  },
  {
   "cell_type": "code",
   "execution_count": 6,
   "id": "2f9b5d43-3381-425f-a66e-67f7d403dd97",
   "metadata": {},
   "outputs": [],
   "source": [
    "## Q2\n",
    "import statistics "
   ]
  },
  {
   "cell_type": "code",
   "execution_count": 4,
   "id": "8557abee-a237-4dbc-bd74-302f4dff74d9",
   "metadata": {},
   "outputs": [],
   "source": [
    "data = [7,5,4,9,12,45] "
   ]
  },
  {
   "cell_type": "code",
   "execution_count": 8,
   "id": "7941aa8a-02e3-407b-a637-e08b0fee93ee",
   "metadata": {},
   "outputs": [
    {
     "name": "stdout",
     "output_type": "stream",
     "text": [
      "mean of data is 13.666666666666666\n"
     ]
    }
   ],
   "source": [
    "statistics.mean(data)\n",
    "print(\"mean of data is % s\"%(statistics.mean(data)))"
   ]
  },
  {
   "cell_type": "code",
   "execution_count": 10,
   "id": "aba2ee23-f96f-4590-9557-52a471da37ba",
   "metadata": {},
   "outputs": [
    {
     "name": "stdout",
     "output_type": "stream",
     "text": [
      "mean of data is 15.616230872610288\n"
     ]
    }
   ],
   "source": [
    "statistics.stdev(data)\n",
    "print(\"mean of data is % s\"%(statistics.stdev(data)))"
   ]
  },
  {
   "cell_type": "code",
   "execution_count": null,
   "id": "7d4f76a9-c566-4b57-862b-03e8dc273e08",
   "metadata": {},
   "outputs": [],
   "source": [
    "## Q3\n",
    "hypothesis testing -  a systematic procedure for deciding whether the results of a research study support\n",
    "a particular theory which applies to a population. "
   ]
  },
  {
   "cell_type": "code",
   "execution_count": null,
   "id": "d8bd6a3d-a7ff-41d5-9fd7-2e10d0059e39",
   "metadata": {},
   "outputs": [],
   "source": [
    "## use \n",
    "It is one of the most important inferential tools of application of statistics to real life problems.\n",
    "It is used when we need to make decisions concerning populations on the basis of only sample information."
   ]
  },
  {
   "cell_type": "code",
   "execution_count": null,
   "id": "1d819154-489a-4bb8-bcae-71dd7813ab80",
   "metadata": {},
   "outputs": [],
   "source": [
    "## importance\n",
    "It ensures the entire research methodologies are scientific and valid.\n",
    "It helps to assume the probability of research failure and progress\n",
    "It helps to provide link to the underlying theory and specific research question. \n",
    "It helps in data analysis and measure the validity and reliability of the research"
   ]
  },
  {
   "cell_type": "code",
   "execution_count": 11,
   "id": "3e9cd1e5-28dd-44bf-b718-1631ee371a88",
   "metadata": {},
   "outputs": [],
   "source": [
    "## Q5 \n",
    "data1=[300, 315, 320, 311, 314, 309, 300, 308, 305, 303, 305, 301, 303]\n",
    "data2=[335, 329, 322, 321, 324, 319, 304, 308, 305, 311, 307, 300, 305]"
   ]
  },
  {
   "cell_type": "code",
   "execution_count": 12,
   "id": "db92486d-c80e-4dce-a894-1c3c3c88eb2e",
   "metadata": {},
   "outputs": [],
   "source": [
    "import scipy.stats as stat"
   ]
  },
  {
   "cell_type": "code",
   "execution_count": 16,
   "id": "d5bfb68f-eed5-49d8-80bf-23ae3a133534",
   "metadata": {},
   "outputs": [],
   "source": [
    "ttest_rel=stat.ttest_rel(a= data1,b=data2)"
   ]
  },
  {
   "cell_type": "code",
   "execution_count": 17,
   "id": "1bf3e5a5-c444-40a3-bd65-18b64f2c3435",
   "metadata": {},
   "outputs": [
    {
     "data": {
      "text/plain": [
       "Ttest_relResult(statistic=-2.774558748608134, pvalue=0.016819186094580354)"
      ]
     },
     "execution_count": 17,
     "metadata": {},
     "output_type": "execute_result"
    }
   ],
   "source": [
    "ttest_rel"
   ]
  },
  {
   "cell_type": "code",
   "execution_count": null,
   "id": "db1cf266-911a-4886-8b58-ad8bdb8cf868",
   "metadata": {},
   "outputs": [],
   "source": [
    "## Q 6 \n",
    "null hypothesis\n",
    "It is a statement in which there is no relation between the two variables.\n",
    "\n",
    "## example\n",
    " On the average, the dosage sold under this brand is 50 mg \n",
    "    population mean dosage = 50 mg. "
   ]
  },
  {
   "cell_type": "code",
   "execution_count": null,
   "id": "f3c8762f-effd-4b99-be90-45356aefc755",
   "metadata": {},
   "outputs": [],
   "source": [
    "alternative hypothesis\n",
    " It is an opposing theory to the null hypothesis.\n",
    "    \n",
    "    ## example\n",
    "    On the average, the dosage sold under this brand is not 50 mg \n",
    "    population mean dosage ≠ 50 mg. "
   ]
  },
  {
   "cell_type": "code",
   "execution_count": null,
   "id": "6e664b10-dc46-49a4-96d8-ab7ca19c6d61",
   "metadata": {},
   "outputs": [],
   "source": [
    "## Q7 \n",
    "## steps involved in hypothesis testing\n",
    "1.Identify Population and Sample.\n",
    "2.State the Hypotheses in terms of population parameters.\n",
    "3.State Assumptions and Check Conditions.\n",
    "4.Calculate the Test Statistic.\n",
    "5.Calculate the P-value.\n",
    "6.State the Conclusion."
   ]
  },
  {
   "cell_type": "code",
   "execution_count": null,
   "id": "37a19573-95c3-4e46-84e8-d699a30a2971",
   "metadata": {},
   "outputs": [],
   "source": [
    "## Q8\n",
    "p-value\n",
    "the probability, for a given statistical model that, when the null hypothesis is true, the statistical summary would be equal\n",
    "to or more extreme than the actual observed results.\n",
    "\n",
    "## significance \n",
    "If the p-value is 0.05 or lower, the result is trumpeted as significant,\n",
    "but if it is higher than 0.05, the result is non-significant and tends to be passed over in silence."
   ]
  },
  {
   "cell_type": "code",
   "execution_count": 21,
   "id": "2b7cbada-e73b-4998-8c60-4ef97e67b8d9",
   "metadata": {},
   "outputs": [],
   "source": [
    "## Q9\n",
    "from scipy.stats import t\n",
    "import scipy.stats as stat\n",
    "import matplotlib.pyplot as plt\n"
   ]
  },
  {
   "cell_type": "code",
   "execution_count": 22,
   "id": "c9690e45-2ea6-4ee6-bd7b-58cc38f862aa",
   "metadata": {},
   "outputs": [],
   "source": [
    "x = t.rvs(df = 10, size = 100)"
   ]
  },
  {
   "cell_type": "code",
   "execution_count": 23,
   "id": "ea76ecad-f946-453f-aab3-c363c9635080",
   "metadata": {},
   "outputs": [
    {
     "data": {
      "text/plain": [
       "(array([0.17597264, 0.04399316, 0.08798632, 0.04399316, 0.2199658 ,\n",
       "        0.        , 0.13197948, 0.48392475, 0.30795212, 0.30795212,\n",
       "        0.52791791, 0.61590423, 0.35194527, 0.30795212, 0.17597264,\n",
       "        0.26395896, 0.13197948, 0.08798632, 0.04399316, 0.08798632]),\n",
       " array([-2.33843654, -2.11112848, -1.88382041, -1.65651234, -1.42920428,\n",
       "        -1.20189621, -0.97458814, -0.74728008, -0.51997201, -0.29266394,\n",
       "        -0.06535587,  0.16195219,  0.38926026,  0.61656833,  0.84387639,\n",
       "         1.07118446,  1.29849253,  1.52580059,  1.75310866,  1.98041673,\n",
       "         2.20772479]),\n",
       " <BarContainer object of 20 artists>)"
      ]
     },
     "execution_count": 23,
     "metadata": {},
     "output_type": "execute_result"
    },
    {
     "data": {
      "image/png": "[encoded data removed]",
      "text/plain": [
       "<Figure size 640x480 with 1 Axes>"
      ]
     },
     "metadata": {},
     "output_type": "display_data"
    }
   ],
   "source": [
    "plt.hist(x, density=True, edgecolor='black', bins=20)"
   ]
  },
  {
   "cell_type": "code",
   "execution_count": 28,
   "id": "f523dcc2-1c82-477a-8c0e-72ab3c59cb85",
   "metadata": {},
   "outputs": [],
   "source": [
    "## Q 10\n",
    "from math import sqrt\n",
    "from numpy.random import seed\n",
    "from numpy.random import randn\n",
    "from numpy import mean\n",
    "from scipy.stats import sem\n",
    "from scipy.stats import t"
   ]
  },
  {
   "cell_type": "code",
   "execution_count": 33,
   "id": "9298e1b9-75e8-452d-ae37-940cd68cf88e",
   "metadata": {},
   "outputs": [
    {
     "name": "stdout",
     "output_type": "stream",
     "text": [
      "t=-2.262, df=198, cv=1.653, p=0.025\n"
     ]
    }
   ],
   "source": [
    "# function for calculating the t-test for two independent samples\n",
    "def independent_ttest(data1, data2, alpha):\n",
    " # calculate means\n",
    " mean1, mean2 = mean(data1), mean(data2)\n",
    " # calculate standard errors\n",
    " se1, se2 = sem(data1), sem(data2)\n",
    " # standard error on the difference between the samples\n",
    " sed = sqrt(se1**2.0 + se2**2.0)\n",
    " # calculate the t statistic\n",
    " t_stat = (mean1 - mean2) / sed\n",
    " # degrees of freedom\n",
    " df = len(data1) + len(data2) - 2\n",
    " # calculate the critical value\n",
    " cv = t.ppf(1.0 - alpha, df)\n",
    " # calculate the p-value\n",
    " p = (1.0 - t.cdf(abs(t_stat), df)) * 2.0\n",
    " # return everything\n",
    " return t_stat, df, cv, p\n",
    " \n",
    "# seed the random number generator\n",
    "seed(1)\n",
    "# generate two independent samples\n",
    "data1 = 5 * randn(100) + 50\n",
    "data2 = 5 * randn(100) + 51\n",
    "# calculate the t test\n",
    "alpha = 0.05\n",
    "t_stat, df, cv, p = independent_ttest(data1, data2, alpha)\n",
    "print('t=%.3f, df=%d, cv=%.3f, p=%.3f' % (t_stat, df, cv, p))"
   ]
  },
  {
   "cell_type": "code",
   "execution_count": 34,
   "id": "4fb4f39e-ea57-49d4-a584-fc489fce561c",
   "metadata": {},
   "outputs": [
    {
     "name": "stdout",
     "output_type": "stream",
     "text": [
      "Reject the null hypothesis that the means are equal.\n"
     ]
    }
   ],
   "source": [
    "if p > alpha:\n",
    " print('Accept null hypothesis that the means are equal.')\n",
    "else:\n",
    " print('Reject the null hypothesis that the means are equal.')"
   ]
  },
  {
   "cell_type": "code",
   "execution_count": null,
   "id": "c5e66f87-0aef-4e3e-a049-d4472f00d7f0",
   "metadata": {},
   "outputs": [],
   "source": [
    "## Q 11\n",
    "students t-distribution\n",
    "A  probability distribution that is used to calculate population parameters when the sample size is small\n",
    "and when the population variance is unknown.\n",
    "\n",
    "\n",
    "## uses\n",
    "he t-distribution is used when data are approximately normally distributed, which means the data follow a bell shape but the population variance is unknown.\n",
    "The variance in a t-distribution is estimated based on the degrees of freedom of the data set"
   ]
  },
  {
   "cell_type": "markdown",
   "id": "9a07e546-61f3-43ca-a66a-ffec02023c51",
   "metadata": {},
   "source": [
    "## Q12 \n",
    "T-statics\n",
    "The T Statistic is used in a T test when you are deciding if you should support or reject the null hypothesis.\n",
    "\n",
    "## formula\n",
    "T = (X̄ – μ) / S/√n\n",
    "where X‾ is the sample mean, μ0 represents the population mean, s is the standard deviation of the sample and n stands for the size of the sample."
   ]
  }
 ],
 "metadata": {
  "kernelspec": {
   "display_name": "Python 3 (ipykernel)",
   "language": "python",
   "name": "python3"
  },
  "language_info": {
   "codemirror_mode": {
    "name": "ipython",
    "version": 3
   },
   "file_extension": ".py",
   "mimetype": "text/x-python",
   "name": "python",
   "nbconvert_exporter": "python",
   "pygments_lexer": "ipython3",
   "version": "3.10.6"
  }
 },
 "nbformat": 4,
 "nbformat_minor": 5
}
